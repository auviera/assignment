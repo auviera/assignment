{
  "nbformat": 4,
  "nbformat_minor": 0,
  "metadata": {
    "colab": {
      "name": "Pertemuan12.ipynb",
      "provenance": [],
      "authorship_tag": "ABX9TyMi1FUQ5B8hoF8Uj7bYxC0b",
      "include_colab_link": true
    },
    "kernelspec": {
      "name": "python3",
      "display_name": "Python 3"
    }
  },
  "cells": [
    {
      "cell_type": "markdown",
      "metadata": {
        "id": "view-in-github",
        "colab_type": "text"
      },
      "source": [
        "<a href=\"https://colab.research.google.com/github/auviera/assignment/blob/main/Pertemuan12.ipynb\" target=\"_parent\"><img src=\"https://colab.research.google.com/assets/colab-badge.svg\" alt=\"Open In Colab\"/></a>"
      ]
    },
    {
      "cell_type": "code",
      "metadata": {
        "id": "3DhSFJPwLpnl"
      },
      "source": [
        "import numpy as np"
      ],
      "execution_count": 42,
      "outputs": []
    },
    {
      "cell_type": "code",
      "metadata": {
        "id": "L-Twps_1kLL9"
      },
      "source": [
        "def lp(d,fc,hr,ht,area):\r\n",
        "\r\n",
        "    #Nilai C1 & C2\r\n",
        "  if fc in range (400,1500):\r\n",
        "    c1 = 69.55\r\n",
        "    c2 = 26.16\r\n",
        "  elif fc in range (1501,2000):\r\n",
        "    c1 = 46.3\r\n",
        "    c2 = 33.9\r\n",
        "\r\n",
        "  #area\r\n",
        "  # 1 = urban\r\n",
        "  # 2 = suburban\r\n",
        "  # 3 = open\r\n",
        "  if area == 1:\r\n",
        "    cm = 0\r\n",
        "  elif area == 2:\r\n",
        "    cm = (-2*(np.log10(fc/28))**2) - 5.4\r\n",
        "  elif area == 3:\r\n",
        "    cm = (-4.78*(np.log10(fc))**2) + (18.33*np.log10(fc)) - 40.94\r\n",
        "\r\n",
        "  #nilai ahr\r\n",
        "  ahr = ((1.1*np.log10(fc)-0.7)*hr)-((1.56*np.log10(fc))-0.8) \r\n",
        "  \r\n",
        "  #nilai LP\r\n",
        "  Lp = c1 + (c2*np.log10(fc)) - (13.83*np.log10(ht)) - ahr + ((44.9-(6.55*np.log10(ht)))*np.log10(d)) + cm\r\n",
        "\r\n",
        "  return Lp"
      ],
      "execution_count": 47,
      "outputs": []
    },
    {
      "cell_type": "code",
      "metadata": {
        "colab": {
          "base_uri": "https://localhost:8080/"
        },
        "id": "avyYLEOHmncf",
        "outputId": "f7b1e0e8-67d9-4e2e-8643-b7424a9d217f"
      },
      "source": [
        "lpval = lp(5,450,20,100,2)\r\n",
        "print(\"Hasil adalah\",lpval, \"dB\")"
      ],
      "execution_count": 49,
      "outputs": [
        {
          "output_type": "stream",
          "text": [
            "Hasil adalah 84.18448688748632 dB\n"
          ],
          "name": "stdout"
        }
      ]
    }
  ]
}